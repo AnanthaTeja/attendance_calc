{
 "cells": [
  {
   "cell_type": "code",
   "execution_count": 3,
   "metadata": {},
   "outputs": [
    {
     "name": "stdout",
     "output_type": "stream",
     "text": [
      "People with their roll number :199\n",
      "{'AP21110010416': 105, 'AP21110011374': 86, 'AP21110010311': 106, 'AP21110010423': 103, 'AP21110011525': 105, 'AP21110010168': 93, 'AP21110010980': 111, 'AP21110010603': 101, 'AP21110011373': 102, 'AP21110010701': 101, 'AP21110011498': 100, 'AP21110010753': 100, 'AP21110010154': 50, 'AP21110010184': 119, 'AP21110010506': 100, 'AP21110011528': 99, 'AP21110010457': 106, 'AP21110010040': 61, 'AP21110010143': 17, 'AP21110011370': 69, 'AP21110011098': 88, 'AP21110010945': 121, 'AP21110010496': 39, 'AP21110010517': 97, 'AP21110011173': 96, 'AP21110010499': 96, 'AP21110011185': 120, 'AP21110011260': 198, 'AP21110010528': 95, 'AP21110011042': 95, 'AP21110010008': 121, 'AP21110011245': 124, 'AP21110010725': 92, 'AP21110010378': 92, 'AP21110010714': 92, 'AP21110010479': 55, 'AP21110010504': 65, 'AP21110010368': 73, 'AP21110011241': 84, 'AP21110010164': 64, 'AP21110010059': 77, 'AP21110011505': 76, 'AP21110010013': 73, 'AP21110010358': 73, 'AP21110010754': 73, 'AP21110010458': 34, 'AP21110011239': 114, 'AP21110010969': 78, 'AP21110010626': 70, 'AP21110010183': 66, 'AP21110011093': 49, 'AP21110011524': 120, 'AP21110010910': 63, 'AP21110011622': 2, 'AP21110010726': 108, 'AP21110011508': 116, 'AP21110010444': 108, 'AP21110010949': 58, 'AP21110010021': 57, 'AP21110011013': 119, 'AP21110011483': 57, 'AP21110010139': 39, 'AP21110011457': 44, 'AP21110010956': 97, 'AP21110010872': 35, 'AP21110010181': 115, 'AP21110010791': 102, 'AP21110011507': 47, 'AP21110010920': 111, 'AP21110010276': 123, 'AP21110010173': 22, 'AP21110011038': 20, 'AP21110011391': 105, 'AP21110010966': 11, 'AP21110011547': 125, 'AP21110010118': 111, 'AP21110010400': 124, 'AP21110010049': 18, 'AP21110010709': 112, 'AP21110010537': 117, 'AP21110010889': 67, 'AP21110011043': 126, 'AP21110010655': 126, 'AP21110010036': 126, 'AP21110010289': 126, 'AP21110010265': 126, 'AP21110010715': 126, 'AP21110010027': 126, 'AP21110010296': 124, 'AP21110010131': 126, 'AP21110011429': 126, 'AP21110010156': 126, 'AP21110010320': 126, 'AP21110011522': 126, 'AP21110010681': 125, 'AP21110010176': 126, 'AP21110010048': 125, 'AP21110010023': 98, 'AP21110011421': 126, 'AP21110011366': 96, 'AP21110010274': 126, 'AP21110010132': 126, 'AP21110010664': 90, 'AP21110011350': 126, 'AP21110011379': 126, 'AP21110010651': 126, 'AP21110010523': 125, 'AP21110010767': 125, 'AP21110010303': 125, 'AP21110010316': 125, 'AP21110010047': 125, 'AP21110010710': 125, 'AP21110011381': 75, 'AP21110010244': 124, 'AP21110011405': 125, 'AP21110011311': 125, 'AP21110010058': 124, 'AP21110010553': 12, 'AP21110020021': 123, 'AP21110011372': 124, 'AP21110011305': 123, 'AP21110010178': 123, 'AP21110010430': 61, 'AP21110010649': 122, 'AP21110010151': 123, 'AP21110011584': 122, 'AP21110011533': 122, 'AP21110010380': 122, 'AP21110010332': 122, 'AP21110010996': 122, 'AP21110011041': 122, 'AP21110010565': 122, 'AP21110011540': 122, 'AP21110011244': 122, 'AP21110010907': 122, 'AP21110010859': 105, 'AP21110011339': 121, 'AP21110010334': 121, 'AP21110010226': 121, 'AP21110011541': 121, 'AP21110011490': 121, 'AP21110010662': 97, 'AP21110010750': 108, 'AP21110010975': 106, 'AP21110010136': 16, 'AP21110010434': 115, 'AP21110010111': 112, 'AP21110010179': 121, 'AP21110010844': 120, 'AP21110010794': 120, 'AP21110010883': 119, 'AP21110010055': 119, 'AP21110010222': 118, 'AP21110010232': 118, 'AP21110010007': 118, 'AP21110010042': 118, 'AP21110010169': 117, 'AP21110010863': 118, 'AP21110010667': 118, 'AP21110011433': 117, 'AP21110010294': 117, 'AP21110010538': 117, 'AP21110010150': 117, 'AP21110010210': 117, 'AP21110010539': 117, 'AP21110010900': 117, 'AP21110011393': 116, 'AP21110010019': 71, 'AP21110010846': 116, 'AP21110011199': 18, 'AP21110010669': 115, 'AP21110010658': 115, 'AP21110011553': 114, 'AP21110010376': 114, 'AP21110011282': 114, 'AP21110010383': 114, 'AP21110010468': 113, 'AP21110010633': 114, 'AP21110010707': 113, 'AP21110010322': 113, 'AP21110010310': 112, 'AP21110010291': 112, 'AP21110010699': 111, 'AP21110011303': 111, 'AP21110010899': 112, 'AP21110010613': 111, 'AP21110011559': 112, 'AP21110020040': 111, 'AP21110010197': 111, 'AP21110011531': 110, 'AP21110010687': 111, 'AP21110011442': 110, 'AP21110011274': 110, 'AP21110010231': 108, 'AP21110011491': 108, 'AP21110010677': 65, 'AP21110011512': 107, 'AP21110011460': 107, 'AP21110010501': 24}\n",
      "People without their roll number\n",
      "{'penumuchu swapna': 8, 'Harsha Sai k': 106, 'Yethirajyam Sai Aditya Maanas': 106, 'Bhargav Venkat Sai': 105, 'Maddi Niharika': 103, 'Hari Vittal Appinedi': 24, 'Yaswanth Sri Ram Jayyavarapu': 22, 'Bindu Sri Veeragandham': 102, 'Prachi Pallabi Dash': 4, 'Dhaara Dhar Reddy Seelam': 102, 'Sankar Masana': 8, 'jahnavi k': 1, 'Shabber Shaik': 79, 'REVANTH KUMAR': 100, 'Nadella Ujwala': 100, 'Durga Surya Teja Indigimilli': 2, 'Purna Sai Srinivas Kommina': 2, 'kowsik chowdary': 56, 'B.MEGHANA REDDY': 39, 'Puneet Sai Sadanala': 96, 'kowshik veldhi': 87, 'Sumanth M': 96, 'Mahima Chowdary Jampala': 75, 'kowshik Guntupalli': 94, 'Subhash Nannapaneni': 75, 'MADHURI KILLI': 16, 'Naga Abhiram Tangella': 91, 'Nerella Bonesh': 91, 'Harshitha Pushadapu': 89, 'VijayKumar Gandem': 61, 'Jyothi Madem': 89, 'Raghav Arora': 36, 'Chethan Veeravalli': 84, 'KANAGALA GUNA VARSHITH': 82, 'Katragadda Heman rai Choudhary': 82, 'Asritha Danda': 57, 'Shaik Sarika': 78, 'pradeepika makkena': 37, 'Bhargav Kanneti': 50, 'Boreddy Deekshitha': 9, 'Sathwik D': 9, 'Mahesh Yelisetty': 2, 'Srinivas Surasani': 74, 'Krishna Sai Teja Kadiyam': 72, 'Marri Nandita': 71, 'Dinesh Kottakota': 60, 'Naga sai Challapalli': 51, 'Vignesh Kode': 67, 'Joshita Chinthoti': 55, 'Vasavi Maddula': 51, 'Rajavardhan Reddy': 1, 'chaitanya koduri': 7, 'Prakash Yalla': 2, 'NANDINI PESALA': 61, 'Arjun Mahamkali': 59, 'Vijay Kumar Varma': 58, 'Muppalla Sasank Chowdary': 3, 'Triceni Koduru': 20, 'Lalitha Akshaya': 50, 'Madhava Rao Sakaray': 6, 'Ishpreet Kaur Khalsa': 40, 'Jai Vardhan': 37, 'Lokesh Kota': 3, 'Ujwala Matha': 2, 'Sanvitha Muddana': 1, 'Sai Vysyaraju': 17, 'DHULIPALLA YASWANTH': 17, 'Dheeraj Kumar': 12, 'T Lokesh (T Lokesh)': 9, 'Hemanth Nelakuditi': 5, 'Haril potluri': 4, 'Khyathi Vardhan Ravella': 3, 'T Lokesh': 1, 'Md Saifur Rahman': 47, 'Santosh venkatasivasantosh.s@apssdc.in': 1, 'Nityasree B': 127, 'Venkatesh Jasthi': 126, 'vara prasad paidi': 126, 'Narmada Mani': 126, 'Naga Sai Sandeep Pippalla': 126, 'Bhavishya Yarlagadda': 36, 'PONNEBOINA KRISHNA SAI RAJ': 126, 'Vikram M': 126, 'pavan karapati': 124, 'Adithi Damera': 124, 'Sravanthi Murukonda': 124, 'Harsha': 123, 'Raghavendra Sailesh Kollipara': 123, 'TEJA KRISHNA AKKALA': 123, 'Likhith Sai Thimmannagari': 1, 'Madhurya G': 123, 'Shaik Basheer': 122, 'Nirmal Deep Ponnada': 122, 'Mohith Ram Garaga': 2, 'Subodh Amru Kiliveti': 121, 'Krishna varshita Borra': 121, 'Koushik Maddi': 1, 'Putti Chakradhar': 120, 'Jayasree Meda': 120, 'RachamReddy Prem Varsha reddy': 119, 'Sri Varsha Gade': 87, 'MANIKANTA KANCHARLA': 118, 'SRIYA CH': 80, 'Meher Ujjwala Cherukumalli': 116, 'Jameer Vali': 116, 'Kavya Sri Gullipalli': 115, 'Narender B': 114, 'Srujana Jannu': 15, 'Sanjana Lakkimsetty': 113, 'Bogineni Krishna Satya Sai Ram': 113, 'Akash Reddy Kalakonda': 6, 'meghana sri tadikonda': 112, 'nikhil nayk': 111, 'Durga Viswanath palutla': 111, 'Yandrapragada Narasimha Rao': 111, 'R Akanksha': 110, 'SASIDHAR P': 109, 'Srinivas Mandadapu': 70, 'Sai Srikar Mandava': 2, 'N Abhilash': 9}\n",
      "120\n"
     ]
    }
   ],
   "source": [
    "import re\n",
    "def PorA(tl,matches):\n",
    "    pattern=r'AP\\d{11}'\n",
    "    k=re.search(pattern,tl[0])\n",
    "    if k:\n",
    "        value = k.group()\n",
    "        matches.append(value)\n",
    "        \n",
    "        if value not in t:\n",
    "            t[value]=int(tl[1])\n",
    "        elif(value in t):\n",
    "            t[value]+=int(tl[1])\n",
    "        return matches\n",
    "    else:\n",
    "        if tl[0] not in a:\n",
    "            a[tl[0]]=int(tl[1])\n",
    "        elif(tl[0] in t):\n",
    "            a[tl[0]]+=int(tl[1])\n",
    "def w_pres(t):\n",
    "    with open(\"Present_at.csv\",'w') as p:\n",
    "        p.write(\"S.no,Roll_num,Time\\n\")\n",
    "        k=0\n",
    "        for i,j in t.items():\n",
    "            p.write(f\"{k+1},{i},{j}\\n\")\n",
    "            k+=1\n",
    "def w_abs(a):\n",
    "    with open(\"absent_at.csv\",'w') as ab:\n",
    "        ab.write(\"S.no,Roll_num,Time\\n\")\n",
    "        k=0\n",
    "        for i,j in a.items():\n",
    "            ab.write(f\"{k+1},{i},{j}\\n\")\n",
    "            k+=1\n",
    "l=[]\n",
    "matches=[]\n",
    "t={}\n",
    "names = []\n",
    "a={}\n",
    "with open (\"Saturday_Attandance.csv\") as fl:\n",
    "    for i in (fl):\n",
    "        l.append(i.strip().split(\",\"))\n",
    "    for i in range(2,len(l)):\n",
    "        PorA(l[i],matches)\n",
    "        m_count=len(matches)\n",
    "w_pres(t)\n",
    "w_abs(a)\n",
    "print(\"People with their roll number : \",end=\"\")\n",
    "print(len(t))\n",
    "print(t)\n",
    "\n",
    "print(\"People without their roll number\",end=\" \")\n",
    "print(len(a))\n",
    "print(a)\n"
   ]
  },
  {
   "cell_type": "code",
   "execution_count": null,
   "metadata": {},
   "outputs": [],
   "source": []
  }
 ],
 "metadata": {
  "kernelspec": {
   "display_name": "Python 3",
   "language": "python",
   "name": "python3"
  },
  "language_info": {
   "codemirror_mode": {
    "name": "ipython",
    "version": 3
   },
   "file_extension": ".py",
   "mimetype": "text/x-python",
   "name": "python",
   "nbconvert_exporter": "python",
   "pygments_lexer": "ipython3",
   "version": "3.10.6"
  },
  "orig_nbformat": 4
 },
 "nbformat": 4,
 "nbformat_minor": 2
}
