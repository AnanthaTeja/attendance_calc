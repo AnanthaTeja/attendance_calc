{
 "cells": [
  {
   "cell_type": "code",
   "execution_count": 147,
   "metadata": {},
   "outputs": [
    {
     "name": "stdout",
     "output_type": "stream",
     "text": [
      "['_CHUNK_SIZE', '__class__', '__del__', '__delattr__', '__dict__', '__dir__', '__doc__', '__enter__', '__eq__', '__exit__', '__format__', '__ge__', '__getattribute__', '__gt__', '__hash__', '__init__', '__init_subclass__', '__iter__', '__le__', '__lt__', '__ne__', '__new__', '__next__', '__reduce__', '__reduce_ex__', '__repr__', '__setattr__', '__sizeof__', '__str__', '__subclasshook__', '_checkClosed', '_checkReadable', '_checkSeekable', '_checkWritable', '_finalizing', 'buffer', 'close', 'closed', 'detach', 'encoding', 'errors', 'fileno', 'flush', 'isatty', 'line_buffering', 'mode', 'name', 'newlines', 'read', 'readable', 'readline', 'readlines', 'reconfigure', 'seek', 'seekable', 'tell', 'truncate', 'writable', 'write', 'write_through', 'writelines']\n"
     ]
    },
    {
     "ename": "AttributeError",
     "evalue": "'_io.TextIOWrapper' object has no attribute 'writerow'",
     "output_type": "error",
     "traceback": [
      "\u001b[0;31m---------------------------------------------------------------------------\u001b[0m",
      "\u001b[0;31mAttributeError\u001b[0m                            Traceback (most recent call last)",
      "Cell \u001b[0;32mIn[147], line 55\u001b[0m\n\u001b[1;32m     47\u001b[0m         m_count\u001b[39m=\u001b[39m\u001b[39mlen\u001b[39m(matches)\n\u001b[1;32m     48\u001b[0m         \u001b[39m#print(l[i])\u001b[39;00m\n\u001b[1;32m     49\u001b[0m     \u001b[39m#print(m_count)\u001b[39;00m\n\u001b[1;32m     50\u001b[0m     \u001b[39m#print(matches)\u001b[39;00m\n\u001b[0;32m   (...)\u001b[0m\n\u001b[1;32m     53\u001b[0m \n\u001b[1;32m     54\u001b[0m     \u001b[39m#print(len(matches))\u001b[39;00m\n\u001b[0;32m---> 55\u001b[0m w_pres(t)\n\u001b[1;32m     56\u001b[0m \u001b[39mprint\u001b[39m(t)\n\u001b[1;32m     57\u001b[0m \u001b[39mprint\u001b[39m(\u001b[39mlen\u001b[39m(t))\n",
      "Cell \u001b[0;32mIn[147], line 30\u001b[0m, in \u001b[0;36mw_pres\u001b[0;34m(t)\u001b[0m\n\u001b[1;32m     28\u001b[0m \u001b[39mwith\u001b[39;00m \u001b[39mopen\u001b[39m(\u001b[39m\"\u001b[39m\u001b[39mPresent_at.csv\u001b[39m\u001b[39m\"\u001b[39m,\u001b[39m'\u001b[39m\u001b[39mw\u001b[39m\u001b[39m'\u001b[39m) \u001b[39mas\u001b[39;00m p:\n\u001b[1;32m     29\u001b[0m     \u001b[39mprint\u001b[39m(\u001b[39mdir\u001b[39m(p))\n\u001b[0;32m---> 30\u001b[0m     p\u001b[39m.\u001b[39;49mwriterow(\u001b[39m\"\u001b[39m\u001b[39mroll_num\u001b[39m\u001b[39m\"\u001b[39m,\u001b[39m\"\u001b[39m\u001b[39mTime\u001b[39m\u001b[39m\"\u001b[39m)\n\u001b[1;32m     31\u001b[0m     \u001b[39mprint\u001b[39m(\u001b[39mdir\u001b[39m(t))\n\u001b[1;32m     32\u001b[0m     \u001b[39mfor\u001b[39;00m i \u001b[39min\u001b[39;00m t\u001b[39m.\u001b[39mvalues():\n",
      "\u001b[0;31mAttributeError\u001b[0m: '_io.TextIOWrapper' object has no attribute 'writerow'"
     ]
    }
   ],
   "source": [
    "import re\n",
    "def PorA(tl,matches):\n",
    "    pattern=r'AP\\d{11}'\n",
    "    #print(tl)\n",
    "    k=re.search(pattern,tl[0])\n",
    "    if k:\n",
    "        #print(k)\n",
    "        value = k.group()\n",
    "        matches.append(value)\n",
    "        \n",
    "        if value not in t:\n",
    "            t[value]=int(tl[1])\n",
    "        elif(value in t):\n",
    "            t[value]+=int(tl[1])\n",
    "        return matches\n",
    "    else:\n",
    "        if tl[0] not in a:\n",
    "            a[tl[0]]=int(tl[1])\n",
    "        elif(tl[0] in t):\n",
    "            a[tl[0]]+=int(tl[1])\n",
    "        #a[tl[0]]=tl[1]\n",
    "        #print(\"boo\")\n",
    "        #print(value)\n",
    "    #if(re.match(pattern,tl[0])):\n",
    "        #print(tl[0])\n",
    "\n",
    "def w_pres(t):\n",
    "    with open(\"Present_at.csv\",'w') as p:\n",
    "        print(dir(p))\n",
    "        p.writerow(\"roll_num\",\"Time\")\n",
    "        print(dir(t))\n",
    "        for i in t.values():\n",
    "            p.write(i ,t[i])\n",
    "\n",
    "    print()\n",
    "\n",
    "l=[]\n",
    "matches=[]\n",
    "t={}\n",
    "a={}\n",
    "with open (\"Saturday_Attandance.csv\") as fl:\n",
    "    #matches=[]\n",
    "    for i in (fl):\n",
    "        l.append(i.strip().split(\",\"))\n",
    "    for i in range(2,len(l)):\n",
    "        PorA(l[i],matches)\n",
    "        m_count=len(matches)\n",
    "        #print(l[i])\n",
    "    #print(m_count)\n",
    "    #print(matches)\n",
    "    #m=remove_n(matches)\n",
    "    #print(m)\n",
    "\n",
    "    #print(len(matches))\n",
    "w_pres(t)\n",
    "print(t)\n",
    "print(len(t))\n",
    "print(a)\n",
    "print(len(a))"
   ]
  }
 ],
 "metadata": {
  "kernelspec": {
   "display_name": "Python 3",
   "language": "python",
   "name": "python3"
  },
  "language_info": {
   "codemirror_mode": {
    "name": "ipython",
    "version": 3
   },
   "file_extension": ".py",
   "mimetype": "text/x-python",
   "name": "python",
   "nbconvert_exporter": "python",
   "pygments_lexer": "ipython3",
   "version": "3.10.6"
  },
  "orig_nbformat": 4
 },
 "nbformat": 4,
 "nbformat_minor": 2
}
